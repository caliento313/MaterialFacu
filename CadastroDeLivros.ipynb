{
  "nbformat": 4,
  "nbformat_minor": 0,
  "metadata": {
    "colab": {
      "provenance": [],
      "authorship_tag": "ABX9TyOO2srWR7Ibt7MqO1K17QcF",
      "include_colab_link": true
    },
    "kernelspec": {
      "name": "python3",
      "display_name": "Python 3"
    },
    "language_info": {
      "name": "python"
    }
  },
  "cells": [
    {
      "cell_type": "markdown",
      "metadata": {
        "id": "view-in-github",
        "colab_type": "text"
      },
      "source": [
        "<a href=\"https://colab.research.google.com/github/caliento313/MaterialFacu/blob/main/CadastroDeLivros.ipynb\" target=\"_parent\"><img src=\"https://colab.research.google.com/assets/colab-badge.svg\" alt=\"Open In Colab\"/></a>"
      ]
    },
    {
      "cell_type": "code",
      "source": [
        "#Passo 1: Definir a classe Livro\n",
        "#Comece definindo a estrutura básica de um livro\n",
        "#usando uma classe em Python. Cada livro terá atributos\n",
        "#como título, autor, gênero e quantidade disponível\n",
        "from matplotlib.pyplot import title\n",
        "class Livro:\n",
        "    def __init__(self, titulo, autor, genero, quantidade_disponivel):\n",
        "        self.titulo = titulo\n",
        "        self.autor = autor\n",
        "        self.genero = genero\n",
        "        self.quantidade_disponivel = quantidade_disponivel\n",
        "\n",
        "    def __str__(self):\n",
        "\n",
        "        return f\"{self.titulo:>6}{self.autor:>10}{self.genero:>8}{self.quantidade_disponivel:>13}\"\n",
        "# Passo 2: Criar a lista de livros\n",
        "# Inicialize uma lista vazia para armazenar os livros que serão cadastrados.\n",
        "livros = []\n",
        "#Passo 3: Implementar funções para gerenciar os livros\n",
        "#Função para cadastrar um novo livro\n",
        "#Função para listar todos os livro\n",
        "\n",
        "def cadastrar_livro(lista_livros):\n",
        "    while True:\n",
        "        print(\"\\nCadastro de Novo Livro\")\n",
        "        titulo = input(\"Título: \")\n",
        "        autor = input(\"Autor: \")\n",
        "        genero = input(\"Gênero: \")\n",
        "\n",
        "        try:\n",
        "            quantidade_disponivel = int(input(\"Quantidade disponível: \"))\n",
        "        except ValueError:\n",
        "            print(\" Entrada inválida. Usando 0 como quantidade.\")\n",
        "            quantidade_disponivel = 0\n",
        "\n",
        "        novo_livro = Livro(titulo, autor, genero, quantidade_disponivel)\n",
        "        lista_livros.append(novo_livro)\n",
        "        print(f\"\\n Livro '{titulo}' cadastrado com sucesso!\\n\")\n",
        "\n",
        "        resp = input(\"Deseja cadastrar outro livro? (s/n): \").lower()\n",
        "        if resp != 's':\n",
        "\n",
        "            print(\"~~\"*15)\n",
        "            print(\"    Livros da biblioteca\")\n",
        "            print(\"~~\"*15)\n",
        "            break\n",
        "\n",
        "print('~~'*15)\n",
        "print('Cadastro de livros da biblioteca')\n",
        "print('~~'*15)\n",
        "\n",
        "\n",
        "# Cadastrando dois livros\n",
        "cadastrar_livro(livros)\n",
        "print(f'{\"Titulo\":>6}{\"Autor\":>10}{\"Genero\":>8}{\"Quantidade\":>13}')\n",
        "print(\"-\"*50)\n",
        "# Exibindo os livros cadastrados\n",
        "\n",
        "\n",
        "for livro in livros:\n",
        "    print(livro)\n",
        "    print(\"-\"*50)\n",
        "def buscar_livro_por_titulo(lista_livros, titulo_busca):\n",
        "    print(f\"\\n Buscando livro com título: '{titulo_busca}'\")\n",
        "    encontrado = False\n",
        "while True:\n",
        "    titulo_busca = input(\"Digite o título do livro a ser buscado (ou 's' para sair): \")\n",
        "    if titulo_busca.lower() == 's':\n",
        "        break\n",
        "\n",
        "    for livro in livros:\n",
        "        if livro.titulo.lower() == titulo_busca.lower():\n",
        "            print(\"\\n Livro encontrado:\")\n",
        "            print(f\" Título: {livro.titulo}\")\n",
        "            print(f\" Autor: {livro.autor}\")\n",
        "            print(f\" Gênero: {livro.genero}\")\n",
        "            print(f\" Quantidade disponível: {livro.quantidade_disponivel}\")\n",
        "            encontrado = True\n",
        "            break\n",
        "\n",
        "    if not encontrado:\n",
        "        print(\" Livro não encontrado.\")\n",
        "import matplotlib.pyplot as plt\n",
        "import pandas as pd\n",
        "\n",
        "# Criar um DataFrame a partir dos dados dos livros\n",
        "df = pd.DataFrame([vars(livro) for livro in livros])\n",
        "\n",
        "# Agrupar por gênero e somar as quantidades disponíveis\n",
        "quantidade_por_genero = df.groupby('genero')['quantidade_disponivel'].sum().reset_index()\n",
        "\n",
        "# Criar o gráfico de barras para quantidade por gênero\n",
        "plt.figure(figsize=(10, 6))\n",
        "plt.bar(quantidade_por_genero['genero'], quantidade_por_genero['quantidade_disponivel'])\n",
        "plt.xlabel(\"Gênero do Livro\")\n",
        "plt.ylabel(\"Quantidade Total Disponível\")\n",
        "plt.title(\"Quantidade Total Disponível por Gênero\")\n",
        "plt.xticks(rotation=45, ha='right')\n",
        "plt.tight_layout()\n",
        "plt.show()\n",
        "\n",
        "\n",
        "\n",
        "\n",
        "\n",
        "\n"
      ],
      "metadata": {
        "colab": {
          "base_uri": "https://localhost:8080/",
          "height": 1000
        },
        "id": "AL3k6tm0te1Z",
        "outputId": "9642a7b0-be88-4439-d730-26ef10b2a637"
      },
      "execution_count": null,
      "outputs": [
        {
          "name": "stdout",
          "output_type": "stream",
          "text": [
            "~~~~~~~~~~~~~~~~~~~~~~~~~~~~~~\n",
            "Cadastro de livros da biblioteca\n",
            "~~~~~~~~~~~~~~~~~~~~~~~~~~~~~~\n",
            "\n",
            "Cadastro de Novo Livro\n",
            "Título: aaaa\n",
            "Autor: sss\n",
            "Gênero: ffff\n",
            "Quantidade disponível: 7\n",
            "\n",
            " Livro 'aaaa' cadastrado com sucesso!\n",
            "\n",
            "Deseja cadastrar outro livro? (s/n): s\n",
            "\n",
            "Cadastro de Novo Livro\n",
            "Título: xxx\n",
            "Autor: cccc\n",
            "Gênero: gggg\n",
            "Quantidade disponível: 9\n",
            "\n",
            " Livro 'xxx' cadastrado com sucesso!\n",
            "\n",
            "Deseja cadastrar outro livro? (s/n): s\n",
            "\n",
            "Cadastro de Novo Livro\n",
            "Título: nnn\n",
            "Autor: mmm\n",
            "Gênero: iiii\n",
            "Quantidade disponível: 4\n",
            "\n",
            " Livro 'nnn' cadastrado com sucesso!\n",
            "\n",
            "Deseja cadastrar outro livro? (s/n): n\n",
            "~~~~~~~~~~~~~~~~~~~~~~~~~~~~~~\n",
            "    Livros da biblioteca\n",
            "~~~~~~~~~~~~~~~~~~~~~~~~~~~~~~\n",
            "Titulo     Autor  Genero   Quantidade\n",
            "--------------------------------------------------\n",
            "  aaaa       sss    ffff            7\n",
            "--------------------------------------------------\n",
            "   xxx      cccc    gggg            9\n",
            "--------------------------------------------------\n",
            "   nnn       mmm    iiii            4\n",
            "--------------------------------------------------\n",
            "Digite o título do livro a ser buscado (ou 's' para sair): xxx\n",
            "\n",
            " Livro encontrado:\n",
            " Título: xxx\n",
            " Autor: cccc\n",
            " Gênero: gggg\n",
            " Quantidade disponível: 9\n",
            "Digite o título do livro a ser buscado (ou 's' para sair): aaaa\n",
            "\n",
            " Livro encontrado:\n",
            " Título: aaaa\n",
            " Autor: sss\n",
            " Gênero: ffff\n",
            " Quantidade disponível: 7\n",
            "Digite o título do livro a ser buscado (ou 's' para sair): nnn\n",
            "\n",
            " Livro encontrado:\n",
            " Título: nnn\n",
            " Autor: mmm\n",
            " Gênero: iiii\n",
            " Quantidade disponível: 4\n",
            "Digite o título do livro a ser buscado (ou 's' para sair): 4\n",
            "Digite o título do livro a ser buscado (ou 's' para sair): g\n",
            "Digite o título do livro a ser buscado (ou 's' para sair): 7\n",
            "Digite o título do livro a ser buscado (ou 's' para sair): i\n",
            "Digite o título do livro a ser buscado (ou 's' para sair): l\n",
            "Digite o título do livro a ser buscado (ou 's' para sair): s\n"
          ]
        },
        {
          "output_type": "display_data",
          "data": {
            "text/plain": [
              "<Figure size 1000x600 with 1 Axes>"
            ],
            "image/png": "[encoded data removed]"
          },
          "metadata": {}
        }
      ]
    },
    {
      "cell_type": "markdown",
      "metadata": {
        "id": "3c4155e6"
      },
      "source": [
        "# Task\n",
        "Add error handling to the entire code for book registration, listing, searching, and graph generation."
      ]
    },
    {
      "cell_type": "markdown",
      "metadata": {
        "id": "c2a3d569"
      },
      "source": [
        "## Review and enhance book registration error handling\n",
        "\n",
        "### Subtask:\n",
        "Improve the error handling in the `cadastrar_livro` function to better manage invalid input types or empty fields.\n"
      ]
    },
    {
      "cell_type": "markdown",
      "metadata": {
        "id": "00516e6e"
      },
      "source": [
        "**Reasoning**:\n",
        "The subtask is to improve error handling in the `cadastrar_livro` function. This involves adding try-except blocks and checks for empty strings to handle invalid input.\n",
        "\n"
      ]
    },
    {
      "cell_type": "code",
      "source": [],
      "metadata": {
        "id": "V-134zC2sfx6"
      },
      "execution_count": null,
      "outputs": []
    },
    {
      "cell_type": "code",
      "metadata": {
        "id": "13e9be2b"
      },
      "source": [
        "def cadastrar_livro(lista_livros):\n",
        "    while True:\n",
        "        print(\"\\nCadastro de Novo Livro\")\n",
        "        try:\n",
        "            titulo = input(\"Título: \")\n",
        "            if not titulo:\n",
        "                print(\"Erro: O título não pode ser vazio.\")\n",
        "                continue\n",
        "\n",
        "            autor = input(\"Autor: \")\n",
        "            if not autor:\n",
        "                print(\"Erro: O autor não pode ser vazio.\")\n",
        "                continue\n",
        "\n",
        "            genero = input(\"Gênero: \")\n",
        "            if not genero:\n",
        "                print(\"Erro: O gênero não pode ser vazio.\")\n",
        "                continue\n",
        "\n",
        "            quantidade_disponivel = int(input(\"Quantidade disponível: \"))\n",
        "\n",
        "            novo_livro = Livro(titulo, autor, genero, quantidade_disponivel)\n",
        "            lista_livros.append(novo_livro)\n",
        "            print(f\"\\n Livro '{titulo}' cadastrado com sucesso!\\n\")\n",
        "\n",
        "            resp = input(\"Deseja cadastrar outro livro? (s/n): \").lower()\n",
        "            if resp != 's':\n",
        "                print(\"~~\"*15)\n",
        "                print(\"    Livros da biblioteca\")\n",
        "                print(\"~~\"*15)\n",
        "                break\n",
        "\n",
        "        except ValueError:\n",
        "            print(\"Erro: Entrada inválida para quantidade. Usando 0 como quantidade.\")\n",
        "            quantidade_disponivel = 0\n",
        "            # Como encontramos um ValueError para quantidade, devemos continuar o loop\n",
        "            # para solicitar novamente todas as entradas para este livro\n",
        "            continue"
      ],
      "execution_count": null,
      "outputs": []
    },
    {
      "cell_type": "markdown",
      "metadata": {
        "id": "6ede5229"
      },
      "source": [
        "## Add error handling for empty book list\n",
        "\n",
        "### Subtask:\n",
        "Modify the code that lists and searches for books to handle cases where the `livros` list is empty to avoid errors.\n"
      ]
    },
    {
      "cell_type": "markdown",
      "metadata": {
        "id": "82e96473"
      },
      "source": [
        "**Reasoning**:\n",
        "Implement the error handling for listing and searching for books by checking if the 'livros' list is empty before proceeding.\n",
        "\n"
      ]
    },
    {
      "cell_type": "code",
      "metadata": {
        "colab": {
          "base_uri": "https://localhost:8080/"
        },
        "id": "68379877",
        "outputId": "9b87a3bf-0aa5-47ab-ce4a-b34afde7c435"
      },
      "source": [
        "#  Função para listar todos os livros (modificada)\n",
        "def listar_livros(lista_livros):\n",
        "    if not lista_livros:\n",
        "        print(\"\\nNão há livros registrados na biblioteca.\")\n",
        "        return\n",
        "\n",
        "    print(\"~~\"*15)\n",
        "    print(\"    Livros da biblioteca\")\n",
        "    print(\"~~\"*15)\n",
        "    print(f'{\"Titulo\":<15}{\"Autor\":<15}{\"Genero\":<15}{\"Quantidade\":<15}')\n",
        "    print(\"-\" * 60)\n",
        "\n",
        "    for livro in lista_livros:\n",
        "        print(f'{livro.titulo:<15}{livro.autor:<15}{livro.genero:<15}{livro.quantidade_disponivel:<15}')\n",
        "        print(\"-\" * 60)\n",
        "\n",
        "# Função para buscar um livro pelo título (modificada)\n",
        "def buscar_livro_por_titulo(lista_livros, titulo_busca):\n",
        "    if not lista_livros:\n",
        "        print(\"\\nNão há livros para buscar na biblioteca.\")\n",
        "        return None  # Retornar Nenhum ou tratar conforme apropriado\n",
        "\n",
        "    print(f\"\\n Buscando livro com título: '{titulo_busca}'\")\n",
        "    encontrado = False\n",
        "\n",
        "    for livro in lista_livros:\n",
        "        if livro.titulo.lower() == titulo_busca.lower():\n",
        "            print(\"\\n Livro encontrado:\")\n",
        "            print(f\" Título: {livro.titulo}\")\n",
        "            print(f\" Autor: {livro.autor}\")\n",
        "            print(f\" Gênero: {livro.genero}\")\n",
        "            print(f\" Quantidade disponível: {livro.quantidade_disponivel}\")\n",
        "            encontrado = True\n",
        "            return livro  # Retornar o objeto livro encontrado\n",
        "\n",
        "    if not encontrado:\n",
        "        print(\" Livro não encontrado.\")\n",
        "        return None\n",
        "\n",
        "# Modifique o loop principal para usar as funções atualizadas\n",
        "print('~~'*15)\n",
        "print('Cadastro de livros da biblioteca')\n",
        "print('~~'*15)\n",
        "\n",
        "# Supondo que cadastrar_livro esteja definido em outro lugar e seja adicionado à lista de 'livros'\n",
        "# cadastrar_livro(livros)\n",
        "# Mantenha esta chamada se quiser adicionar livros primeiro\n",
        "# Listar livros após possível registro\n",
        "listar_livros(livros)\n",
        "\n",
        "# Pesquisar um livro após possível registro\n",
        "while True:\n",
        "    titulo_busca = input(\"Digite o título do livro a ser buscado (ou 's' para sair): \")\n",
        "    if titulo_busca.lower() == 's':\n",
        "        break\n",
        "    buscar_livro_por_titulo(livros, titulo_busca)\n"
      ],
      "execution_count": null,
      "outputs": [
        {
          "name": "stdout",
          "output_type": "stream",
          "text": [
            "~~~~~~~~~~~~~~~~~~~~~~~~~~~~~~\n",
            "Cadastro de livros da biblioteca\n",
            "~~~~~~~~~~~~~~~~~~~~~~~~~~~~~~\n",
            "~~~~~~~~~~~~~~~~~~~~~~~~~~~~~~\n",
            "    Livros da biblioteca\n",
            "~~~~~~~~~~~~~~~~~~~~~~~~~~~~~~\n",
            "Titulo         Autor          Genero         Quantidade     \n",
            "------------------------------------------------------------\n",
            "aaa            sss            ddd            5              \n",
            "------------------------------------------------------------\n",
            "www            rrr            ttt            7              \n",
            "------------------------------------------------------------\n",
            "ggg            jjj            kkk            9              \n",
            "------------------------------------------------------------\n",
            "Digite o título do livro a ser buscado (ou 's' para sair): 4\n",
            "\n",
            " Buscando livro com título: '4'\n",
            " Livro não encontrado.\n",
            "Digite o título do livro a ser buscado (ou 's' para sair): ggg\n",
            "\n",
            " Buscando livro com título: 'ggg'\n",
            "\n",
            " Livro encontrado:\n",
            " Título: ggg\n",
            " Autor: jjj\n",
            " Gênero: kkk\n",
            " Quantidade disponível: 9\n",
            "Digite o título do livro a ser buscado (ou 's' para sair): 0\n",
            "\n",
            " Buscando livro com título: '0'\n",
            " Livro não encontrado.\n",
            "Digite o título do livro a ser buscado (ou 's' para sair): t\n",
            "\n",
            " Buscando livro com título: 't'\n",
            " Livro não encontrado.\n",
            "Digite o título do livro a ser buscado (ou 's' para sair): trs\n",
            "\n",
            " Buscando livro com título: 'trs'\n",
            " Livro não encontrado.\n",
            "Digite o título do livro a ser buscado (ou 's' para sair): s\n"
          ]
        }
      ]
    }
  ]
}