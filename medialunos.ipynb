{
  "nbformat": 4,
  "nbformat_minor": 0,
  "metadata": {
    "colab": {
      "provenance": [],
      "authorship_tag": "ABX9TyOzxg3cMm60EoYTV/2gUkpz",
      "include_colab_link": true
    },
    "kernelspec": {
      "name": "python3",
      "display_name": "Python 3"
    },
    "language_info": {
      "name": "python"
    }
  },
  "cells": [
    {
      "cell_type": "markdown",
      "metadata": {
        "id": "view-in-github",
        "colab_type": "text"
      },
      "source": [
        "<a href=\"https://colab.research.google.com/github/caliento313/MaterialFacu/blob/main/medialunos.ipynb\" target=\"_parent\"><img src=\"https://colab.research.google.com/assets/colab-badge.svg\" alt=\"Open In Colab\"/></a>"
      ]
    },
    {
      "cell_type": "code",
      "source": [
        "ficha = []\n",
        "situaçao = ''\n",
        "while True:\n",
        "  nome = str(input('Nome: ')) # Casdastro dos nomes e notas com media dos alunos.\n",
        "  nota1 = float(input('Nota 1: '))\n",
        "  nota2 = float(input('Nota 2: '))\n",
        "  media = (nota1 + nota2) / 2\n",
        "  ficha.append([nome, [nota1, nota2], media])\n",
        "  resp = str(input('Quer continuar? [S/N]')) # Finaliza o loop\n",
        "  if resp in 'Nn':\n",
        "    break\n",
        "print('-=' * 30)\n",
        "print(f'{\"No.\":<4}{\"Nome\":<10}{\"Média\":>8}{\"Situaçao\":>13}') # Parte da estrutura da tabela\n",
        "print('-' * 26)\n",
        "for i, a in enumerate(ficha):\n",
        "    if a[2] >= 7:\n",
        "        situacao = 'aprovado'\n",
        "    else:\n",
        "        situacao = 'reprovado'\n",
        "    print(f'{i+1:<4}{a[0]:<10}{a[2]:>8.1f}{situacao:>13}')\n",
        "\n",
        "print('<<< VOLTE SEMPRE >>>')"
      ],
      "metadata": {
        "colab": {
          "base_uri": "https://localhost:8080/"
        },
        "outputId": "c0290549-53e4-4126-cc26-7262e20b5e83",
        "id": "QnVSdUgB56wj"
      },
      "execution_count": 20,
      "outputs": [
        {
          "output_type": "stream",
          "name": "stdout",
          "text": [
            "Nome: a\n",
            "Nota 1: 3\n",
            "Nota 2: 3\n",
            "Quer continuar? [S/N]s\n",
            "Nome: b\n",
            "Nota 1: 5\n",
            "Nota 2: 5\n",
            "Quer continuar? [S/N]s\n",
            "Nome: c\n",
            "Nota 1: 8\n",
            "Nota 2: 8\n",
            "Quer continuar? [S/N]n\n",
            "-=-=-=-=-=-=-=-=-=-=-=-=-=-=-=-=-=-=-=-=-=-=-=-=-=-=-=-=-=-=\n",
            "No. Nome         Média     Situaçao\n",
            "--------------------------\n",
            "1   a              3.0    reprovado\n",
            "2   b              5.0    reprovado\n",
            "3   c              8.0     aprovado\n",
            "<<< VOLTE SEMPRE >>>\n"
          ]
        }
      ]
    },
    {
      "cell_type": "markdown",
      "source": [],
      "metadata": {
        "id": "zDkf13Lzchzd"
      }
    }
  ]
}