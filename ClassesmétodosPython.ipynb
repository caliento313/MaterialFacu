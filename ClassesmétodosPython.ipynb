{
  "nbformat": 4,
  "nbformat_minor": 0,
  "metadata": {
    "colab": {
      "provenance": [],
      "authorship_tag": "ABX9TyOP2W+mRcy3tIuZNxfJHf4V",
      "include_colab_link": true
    },
    "kernelspec": {
      "name": "python3",
      "display_name": "Python 3"
    },
    "language_info": {
      "name": "python"
    }
  },
  "cells": [
    {
      "cell_type": "markdown",
      "metadata": {
        "id": "view-in-github",
        "colab_type": "text"
      },
      "source": [
        "<a href=\"https://colab.research.google.com/github/caliento313/MaterialFacu/blob/main/Classesm%C3%A9todosPython.ipynb\" target=\"_parent\"><img src=\"https://colab.research.google.com/assets/colab-badge.svg\" alt=\"Open In Colab\"/></a>"
      ]
    },
    {
      "cell_type": "code",
      "source": [
        "class veiculo:\n",
        "  def __init__(self, cor, modelo, ano):\n",
        "    self.cor = cor\n",
        "    self.modelo = modelo\n",
        "    self.ano = ano\n",
        "    self.velocidade = 0\n",
        "\n",
        "  def acelerar(self, valor):\n",
        "    self.velocidade += valor\n",
        "\n",
        "  def frear(self, valor):\n",
        "    self.velocidade -= valor\n",
        "  def status(self):\n",
        "    return f\"Cor: {self.cor}, Modelo: {self.modelo}, Ano: {self.ano}, Velocidade: {self.velocidade}\"\n",
        "class carro(veiculo):\n",
        "    def __init__(self, cor, modelo, ano, potencia):\n",
        "      super().__init__(cor, modelo, ano)\n",
        "      self.potencia = potencia\n",
        "    def acelerar(self, valor):\n",
        "      self.velocidade += valor + self.potencia\n",
        "class moto(veiculo):\n",
        "  def __init__(self, cor, modelo, ano, cilindrada):\n",
        "    super().__init__(cor, modelo, ano)\n",
        "    self.cilindrada = cilindrada\n",
        "    def status(self):\n",
        "      return f\"Cor: {self.cor}, Modelo: {self.modelo}, Ano: {self.ano}, Velocidade: {self.velocidade}, Cilindrada: {self.cilindrada}\"\n",
        "carro1 = carro(\"Vermelho\", \"Sedan\", 2022, 100)\n",
        "carro1.acelerar(50)\n",
        "carro1.frear(20)\n",
        "moto1 = moto(\"Azul\", \"Custom\", 2021, 250)\n",
        "moto1.acelerar(30)\n",
        "moto1.frear(10)\n",
        "print(carro1.status())\n",
        "print(moto1.status())\n",
        "for v , i in enumerate([carro1, moto1]):\n",
        "  print(f\"Veiculo {v+1}:\")\n",
        "  print(i.status())"
      ],
      "metadata": {
        "id": "OuqdMqJF200e",
        "colab": {
          "base_uri": "https://localhost:8080/"
        },
        "outputId": "1be50308-18c3-4558-9f75-4f4d1841b1fc"
      },
      "execution_count": 24,
      "outputs": [
        {
          "output_type": "stream",
          "name": "stdout",
          "text": [
            "Cor: Vermelho, Modelo: Sedan, Ano: 2022, Velocidade: 130\n",
            "Cor: Azul, Modelo: Custom, Ano: 2021, Velocidade: 20\n",
            "Veiculo 1:\n",
            "Cor: Vermelho, Modelo: Sedan, Ano: 2022, Velocidade: 130\n",
            "Veiculo 2:\n",
            "Cor: Azul, Modelo: Custom, Ano: 2021, Velocidade: 20\n"
          ]
        }
      ]
    }
  ]
}