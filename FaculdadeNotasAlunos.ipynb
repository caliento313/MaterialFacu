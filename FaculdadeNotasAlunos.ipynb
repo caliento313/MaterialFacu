{
  "nbformat": 4,
  "nbformat_minor": 0,
  "metadata": {
    "colab": {
      "provenance": [],
      "authorship_tag": "ABX9TyOWn7SlCAeu9WzkyG2birxB",
      "include_colab_link": true
    },
    "kernelspec": {
      "name": "python3",
      "display_name": "Python 3"
    },
    "language_info": {
      "name": "python"
    }
  },
  "cells": [
    {
      "cell_type": "markdown",
      "metadata": {
        "id": "view-in-github",
        "colab_type": "text"
      },
      "source": [
        "<a href=\"https://colab.research.google.com/github/caliento313/MaterialFacu/blob/main/FaculdadeNotasAlunos.ipynb\" target=\"_parent\"><img src=\"https://colab.research.google.com/assets/colab-badge.svg\" alt=\"Open In Colab\"/></a>"
      ]
    },
    {
      "cell_type": "code",
      "source": [
        "ficha = []\n",
        "while True:\n",
        "  nome = str(input('Nome: ')) # Casdastro dos nomes e notas com media dos alunos.\n",
        "  nota1 = float(input('Nota 1: '))\n",
        "  nota2 = float(input('Nota 2: '))\n",
        "  media = (nota1 + nota2) / 2\n",
        "  ficha.append([nome, [nota1, nota2], media])\n",
        "  resp = str(input('Quer continuar? [S/N]')) # Finaliza o loop\n",
        "  if resp in 'Nn':\n",
        "    break\n",
        "print('-=' * 30)\n",
        "print(f'{\"No.\":<4}{\"Nome\":<10}{\"Média\":>8}') # Parte da estrutura da tabela\n",
        "print('-' * 26)\n",
        "for i, a in enumerate(ficha):\n",
        "  print(f'{i+1:<4}{a[0]:<10}{a[2]:>8.1f}')  # Dados da tabela\n",
        "while True:\n",
        "  print('-' * 35)\n",
        "  opc = int(input('Mostrar notas de qual aluno? (999 interrompe): '))# mostra as notas de cada aluno e finaliza po loop\n",
        "  if opc == 999:\n",
        "    print('FINALIZANDO...')\n",
        "    break\n",
        "  if opc <= len(ficha) - 1:\n",
        "    print(f'Notas de {ficha[opc][0]} são {ficha[opc][1]}')\n",
        "print('<<< VOLTE SEMPRE >>>')"
      ],
      "metadata": {
        "colab": {
          "base_uri": "https://localhost:8080/"
        },
        "id": "zA3DakOdakcp",
        "outputId": "00d610b9-33fb-4b1c-a005-2f8b7d640560"
      },
      "execution_count": 13,
      "outputs": [
        {
          "output_type": "stream",
          "name": "stdout",
          "text": [
            "Nome: Andre\n",
            "Nota 1: 77\n",
            "Nota 2: 66\n",
            "Quer continuar? [S/N]s\n",
            "Nome: Elis\n",
            "Nota 1: 90\n",
            "Nota 2: 100\n",
            "Quer continuar? [S/N]s\n",
            "Nome: Marcia\n",
            "Nota 1: 66\n",
            "Nota 2: 33\n",
            "Quer continuar? [S/N]n\n",
            "-=-=-=-=-=-=-=-=-=-=-=-=-=-=-=-=-=-=-=-=-=-=-=-=-=-=-=-=-=-=\n",
            "No. Nome         Média\n",
            "--------------------------\n",
            "0   Andre         71.5\n",
            "1   Elis          95.0\n",
            "2   Marcia        49.5\n",
            "-----------------------------------\n",
            "Mostrar notas de qual aluno? (999 interrompe): 2\n",
            "Notas de Marcia são [66.0, 33.0]\n",
            "-----------------------------------\n",
            "Mostrar notas de qual aluno? (999 interrompe): 1\n",
            "Notas de Elis são [90.0, 100.0]\n",
            "-----------------------------------\n",
            "Mostrar notas de qual aluno? (999 interrompe): 0\n",
            "Notas de Andre são [77.0, 66.0]\n",
            "-----------------------------------\n",
            "Mostrar notas de qual aluno? (999 interrompe): 999\n",
            "FINALIZANDO...\n",
            "<<< VOLTE SEMPRE >>>\n"
          ]
        }
      ]
    },
    {
      "cell_type": "markdown",
      "source": [],
      "metadata": {
        "id": "zDkf13Lzchzd"
      }
    }
  ]
}