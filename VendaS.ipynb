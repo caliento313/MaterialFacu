{
  "nbformat": 4,
  "nbformat_minor": 0,
  "metadata": {
    "colab": {
      "provenance": [],
      "authorship_tag": "ABX9TyOJrvAQ2PeLEdoxJElm1son",
      "include_colab_link": true
    },
    "kernelspec": {
      "name": "python3",
      "display_name": "Python 3"
    },
    "language_info": {
      "name": "python"
    }
  },
  "cells": [
    {
      "cell_type": "markdown",
      "metadata": {
        "id": "view-in-github",
        "colab_type": "text"
      },
      "source": [
        "<a href=\"https://colab.research.google.com/github/caliento313/MaterialFacu/blob/main/VendaS.ipynb\" target=\"_parent\"><img src=\"https://colab.research.google.com/assets/colab-badge.svg\" alt=\"Open In Colab\"/></a>"
      ]
    },
    {
      "cell_type": "code",
      "source": [
        "#Passo 1: Conectar ao banco de dados SQLite e criar uma tabela\n",
        "#• Primeiro, você precisa estabelecer uma conexão com o banco de dados SQLite e carregar\n",
        "#os dados relevantes para análise.\n",
        "import sqlite3\n",
        "import pandas as pd\n",
        "\n",
        "# Passo 1.1: Conectar ao banco de dados (ou criar, se não existir)\n",
        "conexao = sqlite3.connect('dados_vendas.db')\n",
        "# Passo 1.2: Criar um cursor\n",
        "cursor = conexao.cursor()\n",
        "#Passo 1.3: Criar uma tabela (se não existir)\n",
        "cursor.execute('''\n",
        "CREATE TABLE vendas1 (\n",
        "id_venda INTEGER PRIMARY KEY AUTOINCREMENT,\n",
        "data_venda DATE,\n",
        "produto TEXT,\n",
        "categoria TEXT,\n",
        "valor_venda REAL\n",
        ")\n",
        "''')\n",
        "# Passo 1.4: Inserir alguns dados\n",
        "cursor.execute('''\n",
        "INSERT INTO vendas1 (data_venda, produto, categoria, valor_venda) VALUES\n",
        "('2023-01-01', 'Produto A', 'Eletrônicos', 1500.00),\n",
        "('2023-01-05', 'Produto B', 'Roupas', 350.00),\n",
        "('2023-02-10', 'Produto C', 'Eletrônicos', 1200.00),\n",
        "('2023-03-15', 'Produto D', 'Livros', 200.00),\n",
        "('2023-03-20', 'Produto E', 'Eletrônicos', 800.00),\n",
        "('2023-04-02', 'Produto F', 'Roupas', 400.00),\n",
        "('2023-05-05', 'Produto G', 'Livros', 150.00),\n",
        "('2023-06-10', 'Produto H', 'Eletrônicos', 1000.00),\n",
        "('2023-07-20', 'Produto I', 'Roupas', 600.00),\n",
        "('2023-08-25', 'Produto J', 'Eletrônicos', 700.00),\n",
        "('2023-09-30', 'Produto K', 'Livros', 300.00),\n",
        "('2023-10-05', 'Produto L', 'Roupas', 450.00),\n",
        "('2023-11-15', 'Produto M', 'Eletrônicos', 900.00),\n",
        "('2023-12-20', 'Produto N', 'Livros', 250.00);\n",
        "''')\n",
        "# Passo 1.5: Confirmar as mudanças\n",
        "conexao.commit()\n",
        "# Passo 1.6: Fechar a conexão\n",
        "conexao.close()\n",
        "print(\"Banco de dados e tabela criados com sucesso!\")\n"
      ],
      "metadata": {
        "colab": {
          "base_uri": "https://localhost:8080/",
          "height": 211
        },
        "id": "fUbw9i2Posat",
        "outputId": "41119db0-6c4b-4686-ce95-41b5dcf431c4"
      },
      "execution_count": null,
      "outputs": [
        {
          "output_type": "error",
          "ename": "OperationalError",
          "evalue": "table vendas1 already exists",
          "traceback": [
            "\u001b[0;31m---------------------------------------------------------------------------\u001b[0m",
            "\u001b[0;31mOperationalError\u001b[0m                          Traceback (most recent call last)",
            "\u001b[0;32m/tmp/ipython-input-921757342.py\u001b[0m in \u001b[0;36m<cell line: 0>\u001b[0;34m()\u001b[0m\n\u001b[1;32m     10\u001b[0m \u001b[0mcursor\u001b[0m \u001b[0;34m=\u001b[0m \u001b[0mconexao\u001b[0m\u001b[0;34m.\u001b[0m\u001b[0mcursor\u001b[0m\u001b[0;34m(\u001b[0m\u001b[0;34m)\u001b[0m\u001b[0;34m\u001b[0m\u001b[0;34m\u001b[0m\u001b[0m\n\u001b[1;32m     11\u001b[0m \u001b[0;31m#Passo 1.3: Criar uma tabela (se não existir)\u001b[0m\u001b[0;34m\u001b[0m\u001b[0;34m\u001b[0m\u001b[0m\n\u001b[0;32m---> 12\u001b[0;31m cursor.execute('''\n\u001b[0m\u001b[1;32m     13\u001b[0m CREATE TABLE vendas1 (\n\u001b[1;32m     14\u001b[0m \u001b[0mid_venda\u001b[0m \u001b[0mINTEGER\u001b[0m \u001b[0mPRIMARY\u001b[0m \u001b[0mKEY\u001b[0m \u001b[0mAUTOINCREMENT\u001b[0m\u001b[0;34m,\u001b[0m\u001b[0;34m\u001b[0m\u001b[0;34m\u001b[0m\u001b[0m\n",
            "\u001b[0;31mOperationalError\u001b[0m: table vendas1 already exists"
          ]
        }
      ]
    },
    {
      "cell_type": "code",
      "source": [
        "conexao = sqlite3.connect('dados_vendas.db')\n",
        "cursor = conexao.cursor()\n",
        "cursor.execute(\"SELECT * FROM vendas1\")\n",
        "dados = cursor.fetchall()\n",
        "cursor.close()\n",
        "conexao.close()\n",
        "print(dados)"
      ],
      "metadata": {
        "colab": {
          "base_uri": "https://localhost:8080/"
        },
        "id": "-CUnDMlEqQGI",
        "outputId": "93d54107-9520-4c93-acb2-5182facbb07b"
      },
      "execution_count": null,
      "outputs": [
        {
          "output_type": "stream",
          "name": "stdout",
          "text": [
            "[(1, '2023-01-01', 'Produto A', 'Eletrônicos', 1500.0), (2, '2023-01-05', 'Produto B', 'Roupas', 350.0), (3, '2023-02-10', 'Produto C', 'Eletrônicos', 1200.0), (4, '2023-03-15', 'Produto D', 'Livros', 200.0), (5, '2023-03-20', 'Produto E', 'Eletrônicos', 800.0), (6, '2023-04-02', 'Produto F', 'Roupas', 400.0), (7, '2023-05-05', 'Produto G', 'Livros', 150.0), (8, '2023-06-10', 'Produto H', 'Eletrônicos', 1000.0), (9, '2023-07-20', 'Produto I', 'Roupas', 600.0), (10, '2023-08-25', 'Produto J', 'Eletrônicos', 700.0), (11, '2023-09-30', 'Produto K', 'Livros', 300.0), (12, '2023-10-05', 'Produto L', 'Roupas', 450.0), (13, '2023-11-15', 'Produto M', 'Eletrônicos', 900.0), (14, '2023-12-20', 'Produto N', 'Livros', 250.0)]\n"
          ]
        }
      ]
    },
    {
      "cell_type": "code",
      "source": [
        "#Passo 2: Explorar e preparar os dados\n",
        "#• Agora que os dados estão carregados em um DataFrame do Pandas (df_vendas), você\n",
        "#pode explorá-los e prepará-los para análise.\n",
        "import pandas as pd\n",
        "df = pd.DataFrame(dados, columns=['id_venda', 'data_venda', 'produto', 'categoria', 'valor_venda'])\n",
        "print(df)\n"
      ],
      "metadata": {
        "colab": {
          "base_uri": "https://localhost:8080/"
        },
        "id": "LXnSRJWotfaP",
        "outputId": "fd23100f-2fde-45e4-a5a2-5cfcce15b106"
      },
      "execution_count": null,
      "outputs": [
        {
          "output_type": "stream",
          "name": "stdout",
          "text": [
            "    id_venda  data_venda    produto    categoria  valor_venda\n",
            "0          1  2023-01-01  Produto A  Eletrônicos       1500.0\n",
            "1          2  2023-01-05  Produto B       Roupas        350.0\n",
            "2          3  2023-02-10  Produto C  Eletrônicos       1200.0\n",
            "3          4  2023-03-15  Produto D       Livros        200.0\n",
            "4          5  2023-03-20  Produto E  Eletrônicos        800.0\n",
            "5          6  2023-04-02  Produto F       Roupas        400.0\n",
            "6          7  2023-05-05  Produto G       Livros        150.0\n",
            "7          8  2023-06-10  Produto H  Eletrônicos       1000.0\n",
            "8          9  2023-07-20  Produto I       Roupas        600.0\n",
            "9         10  2023-08-25  Produto J  Eletrônicos        700.0\n",
            "10        11  2023-09-30  Produto K       Livros        300.0\n",
            "11        12  2023-10-05  Produto L       Roupas        450.0\n",
            "12        13  2023-11-15  Produto M  Eletrônicos        900.0\n",
            "13        14  2023-12-20  Produto N       Livros        250.0\n"
          ]
        }
      ]
    },
    {
      "cell_type": "code",
      "source": [
        "\n",
        "#Passo 3: Análise dos dados\n",
        "# Realize análises específicas para extrair insights sobre as vendas.\n",
        "#Passo 4: Visualização dos dados\n",
        "#• Utilize Matplotlib e Seaborn para criar visualizações que ajudem na interpretação dos resultados.\n",
        "import matplotlib.pyplot as plt\n",
        "import seaborn as sns\n",
        "\n",
        "sns.barplot(x='categoria', y='valor_venda', data=df)\n",
        "plt.show()"
      ],
      "metadata": {
        "colab": {
          "base_uri": "https://localhost:8080/",
          "height": 449
        },
        "id": "8cvEoRsVuRC3",
        "outputId": "01727ec3-3092-45f4-acf4-ffd55f516660"
      },
      "execution_count": null,
      "outputs": [
        {
          "output_type": "display_data",
          "data": {
            "text/plain": [
              "<Figure size 640x480 with 1 Axes>"
            ],
            "image/png": "[encoded data removed]"
          },
          "metadata": {}
        }
      ]
    }
  ]
}