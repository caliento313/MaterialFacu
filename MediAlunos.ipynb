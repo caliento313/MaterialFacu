{
  "nbformat": 4,
  "nbformat_minor": 0,
  "metadata": {
    "colab": {
      "provenance": [],
      "authorship_tag": "ABX9TyNKYg209/RXh1JFyNN5VPeq",
      "include_colab_link": true
    },
    "kernelspec": {
      "name": "python3",
      "display_name": "Python 3"
    },
    "language_info": {
      "name": "python"
    }
  },
  "cells": [
    {
      "cell_type": "markdown",
      "metadata": {
        "id": "view-in-github",
        "colab_type": "text"
      },
      "source": [
        "<a href=\"https://colab.research.google.com/github/caliento313/MaterialFacu/blob/main/MediAlunos.ipynb\" target=\"_parent\"><img src=\"https://colab.research.google.com/assets/colab-badge.svg\" alt=\"Open In Colab\"/></a>"
      ]
    },
    {
      "cell_type": "code",
      "source": [
        "ficha = []\n",
        "situaçao = ''\n",
        "while True:\n",
        "  nome = str(input('Nome: ')) # Casdastro dos nomes e notas com media dos alunos.\n",
        "  nota1 = float(input('Nota 1: '))\n",
        "  nota2 = float(input('Nota 2: '))\n",
        "  media = (nota1 + nota2) / 2\n",
        "  ficha.append([nome, [nota1, nota2], media])\n",
        "  resp = str(input('Quer continuar? [S/N]')) # Finaliza o loop\n",
        "  if resp in 'Nn':\n",
        "    break\n",
        "print('-=' * 30)\n",
        "print(f'{\"No.\":<4}{\"Nome\":<10}{\"Média\":>8}{\"Situaçao\":>13}') # Parte da estrutura da tabela\n",
        "print('-' * 26)\n",
        "for i, a in enumerate(ficha):\n",
        "    if a[2] >= 7:\n",
        "        situacao = 'aprovado'\n",
        "    else:\n",
        "        situacao = 'reprovado'\n",
        "    print(f'{i+1:<4}{a[0]:<10}{a[2]:>8.1f}{situacao:>13}')\n",
        "\n"
      ],
      "metadata": {
        "colab": {
          "base_uri": "https://localhost:8080/"
        },
        "outputId": "b6086e4e-9e0b-429b-8f22-3164d98e1b1e",
        "id": "QnVSdUgB56wj"
      },
      "execution_count": 22,
      "outputs": [
        {
          "output_type": "stream",
          "name": "stdout",
          "text": [
            "Nome: Andre\n",
            "Nota 1: 7.8\n",
            "Nota 2: 7.7\n",
            "Quer continuar? [S/N]s\n",
            "Nome: Marcia\n",
            "Nota 1: 6.6\n",
            "Nota 2: 4.5\n",
            "Quer continuar? [S/N]s\n",
            "Nome: Elis\n",
            "Nota 1: 10\n",
            "Nota 2: 9.8\n",
            "Quer continuar? [S/N]s\n",
            "Nome: Renata\n",
            "Nota 1: 3.2\n",
            "Nota 2: 2.7\n",
            "Quer continuar? [S/N]n\n",
            "-=-=-=-=-=-=-=-=-=-=-=-=-=-=-=-=-=-=-=-=-=-=-=-=-=-=-=-=-=-=\n",
            "No. Nome         Média     Situaçao\n",
            "--------------------------\n",
            "1   Andre          7.8     aprovado\n",
            "2   Marcia         5.5    reprovado\n",
            "3   Elis           9.9     aprovado\n",
            "4   Renata         3.0    reprovado\n"
          ]
        }
      ]
    },
    {
      "cell_type": "markdown",
      "source": [],
      "metadata": {
        "id": "zDkf13Lzchzd"
      }
    }
  ]
}