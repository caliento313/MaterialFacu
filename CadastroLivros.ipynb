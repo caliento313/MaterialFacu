{
  "nbformat": 4,
  "nbformat_minor": 0,
  "metadata": {
    "colab": {
      "provenance": [],
      "authorship_tag": "ABX9TyOSLxWUkzRc3Cmw4lfZLLvY",
      "include_colab_link": true
    },
    "kernelspec": {
      "name": "python3",
      "display_name": "Python 3"
    },
    "language_info": {
      "name": "python"
    }
  },
  "cells": [
    {
      "cell_type": "markdown",
      "metadata": {
        "id": "view-in-github",
        "colab_type": "text"
      },
      "source": [
        "<a href=\"https://colab.research.google.com/github/caliento313/MaterialFacu/blob/main/CadastroLivros.ipynb\" target=\"_parent\"><img src=\"https://colab.research.google.com/assets/colab-badge.svg\" alt=\"Open In Colab\"/></a>"
      ]
    },
    {
      "cell_type": "code",
      "source": [
        "#Passo 1: Definir a classe Livro\n",
        "#Comece definindo a estrutura básica de um livro\n",
        "#usando uma classe em Python. Cada livro terá atributos\n",
        "#como título, autor, gênero e quantidade disponível\n",
        "class Livro:\n",
        "    def __init__(self, titulo, autor, genero, quantidade_disponivel):\n",
        "        self.titulo = titulo\n",
        "        self.autor = autor\n",
        "        self.genero = genero\n",
        "        self.quantidade_disponivel = quantidade_disponivel\n",
        "\n",
        "    def __str__(self):\n",
        "\n",
        "        return f\"{self.titulo:>6}{self.autor:>10}{self.genero:>8}{self.quantidade_disponivel:>13}\"\n",
        "# Passo 2: Criar a lista de livros\n",
        "# Inicialize uma lista vazia para armazenar os livros que serão cadastrados.\n",
        "livros = []\n",
        "#Passo 3: Implementar funções para gerenciar os livros\n",
        "#Função para cadastrar um novo livro\n",
        "#Função para listar todos os livro\n",
        "\n",
        "def cadastrar_livro(lista_livros):\n",
        "    while True:\n",
        "        print(\"\\nCadastro de Novo Livro\")\n",
        "        titulo = input(\"Título: \")\n",
        "        autor = input(\"Autor: \")\n",
        "        genero = input(\"Gênero: \")\n",
        "\n",
        "        try:\n",
        "            quantidade = int(input(\"Quantidade disponível: \"))\n",
        "        except ValueError:\n",
        "            print(\" Entrada inválida. Usando 0 como quantidade.\")\n",
        "            quantidade = 0\n",
        "\n",
        "        novo_livro = Livro(titulo, autor, genero, quantidade)\n",
        "        lista_livros.append(novo_livro)\n",
        "        print(f\"\\n Livro '{titulo}' cadastrado com sucesso!\\n\")\n",
        "\n",
        "        resp = input(\"Deseja cadastrar outro livro? (s/n): \").lower()\n",
        "        if resp != 's':\n",
        "\n",
        "            print(\"~~\"*15)\n",
        "            print(\"    Livros da biblioteca\")\n",
        "            print(\"~~\"*15)\n",
        "            break\n",
        "\n",
        "print('~~'*15)\n",
        "print('Cadastro de livros da biblioteca')\n",
        "print('~~'*15)\n",
        "\n",
        "\n",
        "# Cadastrando dois livros\n",
        "cadastrar_livro(livros)\n",
        "print(f'{\"Titulo\":>6}{\"Autor\":>10}{\"Genero\":>8}{\"Quantidade\":>13}')\n",
        "# Exibindo os livros cadastrados\n",
        "\n",
        "for livro in livros:\n",
        "    print(livro)"
      ],
      "metadata": {
        "colab": {
          "base_uri": "https://localhost:8080/"
        },
        "id": "AL3k6tm0te1Z",
        "outputId": "594ffc34-e2aa-47d7-e434-6837ee80753f"
      },
      "execution_count": 65,
      "outputs": [
        {
          "output_type": "stream",
          "name": "stdout",
          "text": [
            "~~~~~~~~~~~~~~~~~~~~~~~~~~~~~~\n",
            "Cadastro de livros da biblioteca\n",
            "~~~~~~~~~~~~~~~~~~~~~~~~~~~~~~\n",
            "\n",
            "Cadastro de Novo Livro\n",
            "Título: aaa\n",
            "Autor: bbb\n",
            "Gênero: ccc\n",
            "Quantidade disponível: 4\n",
            "\n",
            " Livro 'aaa' cadastrado com sucesso!\n",
            "\n",
            "Deseja cadastrar outro livro? (s/n): n\n",
            "~~~~~~~~~~~~~~~~~~~~~~~~~~~~~~\n",
            "    Livros da biblioteca\n",
            "~~~~~~~~~~~~~~~~~~~~~~~~~~~~~~\n",
            "Titulo     Autor  Genero   Quantidade\n",
            "   aaa       bbb     ccc            4\n"
          ]
        }
      ]
    }
  ]
}