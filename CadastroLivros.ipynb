{
  "nbformat": 4,
  "nbformat_minor": 0,
  "metadata": {
    "colab": {
      "provenance": [],
      "authorship_tag": "ABX9TyMZqEc+kaespB20ulSElGJz",
      "include_colab_link": true
    },
    "kernelspec": {
      "name": "python3",
      "display_name": "Python 3"
    },
    "language_info": {
      "name": "python"
    }
  },
  "cells": [
    {
      "cell_type": "markdown",
      "metadata": {
        "id": "view-in-github",
        "colab_type": "text"
      },
      "source": [
        "<a href=\"https://colab.research.google.com/github/caliento313/MaterialFacu/blob/main/CadastroLivros.ipynb\" target=\"_parent\"><img src=\"https://colab.research.google.com/assets/colab-badge.svg\" alt=\"Open In Colab\"/></a>"
      ]
    },
    {
      "cell_type": "code",
      "source": [
        "#Passo 1: Definir a classe Livro\n",
        "#Comece definindo a estrutura básica de um livro\n",
        "#usando uma classe em Python. Cada livro terá atributos\n",
        "#como título, autor, gênero e quantidade disponível\n",
        "class Livro:\n",
        "    def __init__(self, titulo, autor, genero, quantidade_disponivel):\n",
        "        self.titulo = titulo\n",
        "        self.autor = autor\n",
        "        self.genero = genero\n",
        "        self.quantidade_disponivel = quantidade_disponivel\n",
        "\n",
        "    def __str__(self):\n",
        "\n",
        "        return f\"{self.titulo:>6}{self.autor:>10}{self.genero:>8}{self.quantidade_disponivel:>13}\"\n",
        "# Passo 2: Criar a lista de livros\n",
        "# Inicialize uma lista vazia para armazenar os livros que serão cadastrados.\n",
        "livros = []\n",
        "#Passo 3: Implementar funções para gerenciar os livros\n",
        "#Função para cadastrar um novo livro\n",
        "#Função para listar todos os livro\n",
        "\n",
        "def cadastrar_livro(lista_livros):\n",
        "    while True:\n",
        "        print(\"\\nCadastro de Novo Livro\")\n",
        "        titulo = input(\"Título: \")\n",
        "        autor = input(\"Autor: \")\n",
        "        genero = input(\"Gênero: \")\n",
        "\n",
        "        try:\n",
        "            quantidade = int(input(\"Quantidade disponível: \"))\n",
        "        except ValueError:\n",
        "            print(\" Entrada inválida. Usando 0 como quantidade.\")\n",
        "            quantidade = 0\n",
        "\n",
        "        novo_livro = Livro(titulo, autor, genero, quantidade)\n",
        "        lista_livros.append(novo_livro)\n",
        "        print(f\"\\n Livro '{titulo}' cadastrado com sucesso!\\n\")\n",
        "\n",
        "        resp = input(\"Deseja cadastrar outro livro? (s/n): \").lower()\n",
        "        if resp != 's':\n",
        "\n",
        "            print(\"~~\"*15)\n",
        "            print(\"    Livros da biblioteca\")\n",
        "            print(\"~~\"*15)\n",
        "            break\n",
        "\n",
        "print('~~'*15)\n",
        "print('Cadastro de livros da biblioteca')\n",
        "print('~~'*15)\n",
        "\n",
        "\n",
        "# Cadastrando dois livros\n",
        "cadastrar_livro(livros)\n",
        "print(f'{\"Titulo\":>6}{\"Autor\":>10}{\"Genero\":>8}{\"Quantidade\":>13}')\n",
        "print(\"-\"*50)\n",
        "# Exibindo os livros cadastrados\n",
        "\n",
        "\n",
        "for livro in livros:\n",
        "    print(livro)\n",
        "    print(\"-\"*50)\n",
        "def buscar_livro_por_titulo(lista_livros, titulo_busca):\n",
        "    print(f\"\\n Buscando livro com título: '{titulo_busca}'\")\n",
        "    encontrado = False\n",
        "while True:\n",
        "    titulo_busca = input(\"Digite o título do livro a ser buscado (ou 's' para sair): \")\n",
        "    if titulo_busca.lower() == 's':\n",
        "        break\n",
        "\n",
        "    for livro in livros:\n",
        "        if livro.titulo.lower() == titulo_busca.lower():\n",
        "            print(\"\\n Livro encontrado:\")\n",
        "            print(f\" Título: {livro.titulo}\")\n",
        "            print(f\" Autor: {livro.autor}\")\n",
        "            print(f\" Gênero: {livro.genero}\")\n",
        "            print(f\" Quantidade disponível: {livro.quantidade_disponivel}\")\n",
        "            encontrado = True\n",
        "            break\n",
        "\n",
        "    if not encontrado:\n",
        "        print(\" Livro não encontrado.\")\n",
        "import matplotlib.pyplot as plt\n",
        "from collections import defaultdict\n",
        "while True:\n",
        "\n",
        "  def gerar_grafico_generos(lista_livros):\n",
        "      # Agrupar quantidade de livros por gênero\n",
        "      contagem_generos = defaultdict(int)\n",
        "      for livro in lista_livros:\n",
        "          contagem_generos[livro.genero] += livro.quantidade\n",
        "\n",
        "      # Preparar dados para o gráfico\n",
        "      generos = list(contagem_generos.keys())\n",
        "      quantidades = list(contagem_generos.values())\n",
        "\n",
        "    # Criar gráfico de barras\n",
        "    plt.figure(figsize=(10, 6))\n",
        "    plt.bar(generos, quantidades, color='skyblue', edgecolor='black')\n",
        "    plt.title(\"📚 Quantidade de Livros por Gênero\")\n",
        "    plt.xlabel(\"Gênero\")\n",
        "    plt.ylabel(\"Quantidade\")\n",
        "    plt.xticks(rotation=45)\n",
        "    plt.tight_layout()\n",
        "    plt.grid(axis='y', linestyle='--', alpha=0.7)\n",
        "\n",
        "    # Exibir gráfico\n",
        "    plt.show()"
      ],
      "metadata": {
        "colab": {
          "base_uri": "https://localhost:8080/"
        },
        "id": "AL3k6tm0te1Z",
        "outputId": "d0705183-35e9-46ea-c594-14da9416eaeb"
      },
      "execution_count": null,
      "outputs": [
        {
          "name": "stdout",
          "output_type": "stream",
          "text": [
            "~~~~~~~~~~~~~~~~~~~~~~~~~~~~~~\n",
            "Cadastro de livros da biblioteca\n",
            "~~~~~~~~~~~~~~~~~~~~~~~~~~~~~~\n",
            "\n",
            "Cadastro de Novo Livro\n",
            "Título: aaaa\n",
            "Autor: bbb\n",
            "Gênero: ccc\n",
            "Quantidade disponível: 4\n",
            "\n",
            " Livro 'aaaa' cadastrado com sucesso!\n",
            "\n",
            "Deseja cadastrar outro livro? (s/n): n\n",
            "~~~~~~~~~~~~~~~~~~~~~~~~~~~~~~\n",
            "    Livros da biblioteca\n",
            "~~~~~~~~~~~~~~~~~~~~~~~~~~~~~~\n",
            "Titulo     Autor  Genero   Quantidade\n",
            "--------------------------------------------------\n",
            "  aaaa       bbb     ccc            4\n",
            "--------------------------------------------------\n",
            "Digite o título do livro a ser buscado (ou 's' para sair): s\n"
          ]
        }
      ]
    },
    {
      "cell_type": "code",
      "source": [],
      "metadata": {
        "id": "C88gHV9vRxLG"
      },
      "execution_count": 73,
      "outputs": []
    }
  ]
}