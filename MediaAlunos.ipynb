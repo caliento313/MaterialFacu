{
  "nbformat": 4,
  "nbformat_minor": 0,
  "metadata": {
    "colab": {
      "provenance": [],
      "authorship_tag": "ABX9TyOQY/eFBtYylxcXS/nFBvti",
      "include_colab_link": true
    },
    "kernelspec": {
      "name": "python3",
      "display_name": "Python 3"
    },
    "language_info": {
      "name": "python"
    }
  },
  "cells": [
    {
      "cell_type": "markdown",
      "metadata": {
        "id": "view-in-github",
        "colab_type": "text"
      },
      "source": [
        "<a href=\"https://colab.research.google.com/github/caliento313/MaterialFacu/blob/main/MediaAlunos.ipynb\" target=\"_parent\"><img src=\"https://colab.research.google.com/assets/colab-badge.svg\" alt=\"Open In Colab\"/></a>"
      ]
    },
    {
      "cell_type": "code",
      "source": [
        "ficha = []\n",
        "while True:\n",
        "  nome = str(input('Nome: ')) # Casdastro dos nomes e notas com media dos alunos.\n",
        "  nota1 = float(input('Nota 1: '))\n",
        "  nota2 = float(input('Nota 2: '))\n",
        "  media = (nota1 + nota2) / 2\n",
        "  ficha.append([nome, [nota1, nota2], media])\n",
        "  resp = str(input('Quer continuar? [S/N]')) # Finaliza o loop\n",
        "  if resp in 'Nn':\n",
        "    break\n",
        "print('-=' * 30)\n",
        "print(f'{\"No.\":<4}{\"Nome\":<10}{\"Média\":>8}') # Parte da estrutura da tabela\n",
        "print('-' * 26)\n",
        "for i, a in enumerate(ficha):\n",
        "  print(f'{i+1:<4}{a[0]:<10}{a[2]:>8.1f}')  # Dados da tabela\n",
        "while True:\n",
        "  print('-' * 35)\n",
        "\n",
        "  opc = int(input('Mostrar notas de qual aluno? (999 interrompe): '))# mostra as notas de cada aluno e finaliza po loop\n",
        "  if opc == 999:\n",
        "    print('FINALIZANDO...')\n",
        "    break\n",
        "  if media <= 6:\n",
        "      print('Aluno reprovado')\n",
        "  elif media >= 7:\n",
        "      print('Aluno aprovado')\n",
        "  else:\n",
        "      print('Aluno em recuperação')\n",
        "  if opc <= len(ficha) - 1:\n",
        "    print(f'Notas de {ficha[opc][0]} são {ficha[opc][1]}')\n",
        "print('<<< VOLTE SEMPRE >>>')"
      ],
      "metadata": {
        "colab": {
          "base_uri": "https://localhost:8080/"
        },
        "id": "zA3DakOdakcp",
        "outputId": "5b4ab252-d3a8-4bd2-a9d0-ec475b751d2c"
      },
      "execution_count": 4,
      "outputs": [
        {
          "output_type": "stream",
          "name": "stdout",
          "text": [
            "Nome: rkjhfg\n",
            "Nota 1: 99\n",
            "Nota 2: 99\n",
            "Quer continuar? [S/N]n\n",
            "-=-=-=-=-=-=-=-=-=-=-=-=-=-=-=-=-=-=-=-=-=-=-=-=-=-=-=-=-=-=\n",
            "No. Nome         Média\n",
            "--------------------------\n",
            "1   rkjhfg        99.0\n",
            "-----------------------------------\n",
            "Mostrar notas de qual aluno? (999 interrompe): 1\n",
            "Aluno aprovado\n",
            "-----------------------------------\n",
            "Mostrar notas de qual aluno? (999 interrompe): 999\n",
            "FINALIZANDO...\n",
            "<<< VOLTE SEMPRE >>>\n"
          ]
        }
      ]
    },
    {
      "cell_type": "code",
      "source": [
        "ficha = []\n",
        "situaçao = ''\n",
        "while True:\n",
        "  nome = str(input('Nome: ')) # Casdastro dos nomes e notas com media dos alunos.\n",
        "  nota1 = float(input('Nota 1: '))\n",
        "  nota2 = float(input('Nota 2: '))\n",
        "  media = (nota1 + nota2) / 2\n",
        "  ficha.append([nome, [nota1, nota2], media])\n",
        "  resp = str(input('Quer continuar? [S/N]')) # Finaliza o loop\n",
        "  if resp in 'Nn':\n",
        "    break\n",
        "print('-=' * 30)\n",
        "print(f'{\"No.\":<4}{\"Nome\":<10}{\"Média\":>8}{\"Situaçao\":>13}') # Parte da estrutura da tabela\n",
        "print('-' * 26)\n",
        "for i, a in enumerate(ficha):\n",
        "    if a[2] >= 7:\n",
        "        situacao = 'aprovado'\n",
        "    else:\n",
        "        situacao = 'reprovado'\n",
        "    print(f'{i+1:<4}{a[0]:<10}{a[2]:>8.1f}{situacao:>13}')\n",
        "\n",
        "print('<<< VOLTE SEMPRE >>>')"
      ],
      "metadata": {
        "colab": {
          "base_uri": "https://localhost:8080/"
        },
        "outputId": "c0290549-53e4-4126-cc26-7262e20b5e83",
        "id": "QnVSdUgB56wj"
      },
      "execution_count": 20,
      "outputs": [
        {
          "output_type": "stream",
          "name": "stdout",
          "text": [
            "Nome: a\n",
            "Nota 1: 3\n",
            "Nota 2: 3\n",
            "Quer continuar? [S/N]s\n",
            "Nome: b\n",
            "Nota 1: 5\n",
            "Nota 2: 5\n",
            "Quer continuar? [S/N]s\n",
            "Nome: c\n",
            "Nota 1: 8\n",
            "Nota 2: 8\n",
            "Quer continuar? [S/N]n\n",
            "-=-=-=-=-=-=-=-=-=-=-=-=-=-=-=-=-=-=-=-=-=-=-=-=-=-=-=-=-=-=\n",
            "No. Nome         Média     Situaçao\n",
            "--------------------------\n",
            "1   a              3.0    reprovado\n",
            "2   b              5.0    reprovado\n",
            "3   c              8.0     aprovado\n",
            "<<< VOLTE SEMPRE >>>\n"
          ]
        }
      ]
    },
    {
      "cell_type": "code",
      "source": [
        "ficha = []\n",
        "while True:\n",
        "  nome = str(input('Nome: ')) # Casdastro dos nomes e notas com media dos alunos.\n",
        "  nota1 = float(input('Nota 1: '))\n",
        "  nota2 = float(input('Nota 2: '))\n",
        "  media = (nota1 + nota2) / 2\n",
        "\n",
        "  ficha.append([nome, [nota1, nota2], media,situação])\n",
        "  resp = str(input('Quer continuar? [S/N]')) # Finaliza o loop\n",
        "  if resp in 'Nn':\n",
        "    break\n",
        "print('-=' * 30)\n",
        "print(f'{\"No.\":<4}{\"Nome\":<10}{\"Média\":>8}') # Parte da estrutura da tabela\n",
        "print('-' * 26)\n",
        "for i, a in enumerate(ficha):\n",
        "  print(f'{i:<4}{a[0]:<10}{a[2]:>8.1f}')  # Dados da tabela\n",
        "\n",
        "while True:\n",
        "  print('-' * 35)\n",
        "  opc = int(input('Mostrar notas de qual aluno? (999 interrompe): '))# mostra as notas de cada aluno e finaliza po loop\n",
        "\n",
        "\n",
        "  if opc == 999:\n",
        "    print('FINALIZANDO...')\n",
        "    break\n",
        "\n",
        "  if opc <= len(ficha) - 1:\n",
        "    print(f'Notas de {ficha[opc][0]} são {ficha[opc][1]} e a media é {ficha[opc][2]}')\n",
        "    print(f'Situação: {situação}')\n",
        "\n",
        "  if media <= 6:\n",
        "      print('Aluno reprovado')\n",
        "  elif media >= 7:\n",
        "      print('Aluno aprovado')\n",
        "  elif media >= 5 <= 7:\n",
        "      print('Aluno em recuperação')\n",
        "\n",
        "print('<<< VOLTE SEMPRE >>>')"
      ],
      "metadata": {
        "colab": {
          "base_uri": "https://localhost:8080/",
          "height": 269
        },
        "outputId": "01cfa69e-cf3a-44eb-83e8-e60453dee3d3",
        "id": "ssjMlzYn5_-O"
      },
      "execution_count": 3,
      "outputs": [
        {
          "name": "stdout",
          "output_type": "stream",
          "text": [
            "Nome: aaa\n",
            "Nota 1: 3\n",
            "Nota 2: 3\n"
          ]
        },
        {
          "output_type": "error",
          "ename": "NameError",
          "evalue": "name 'situação' is not defined",
          "traceback": [
            "\u001b[0;31m---------------------------------------------------------------------------\u001b[0m",
            "\u001b[0;31mNameError\u001b[0m                                 Traceback (most recent call last)",
            "\u001b[0;32m/tmp/ipython-input-1143167676.py\u001b[0m in \u001b[0;36m<cell line: 0>\u001b[0;34m()\u001b[0m\n\u001b[1;32m      6\u001b[0m   \u001b[0mmedia\u001b[0m \u001b[0;34m=\u001b[0m \u001b[0;34m(\u001b[0m\u001b[0mnota1\u001b[0m \u001b[0;34m+\u001b[0m \u001b[0mnota2\u001b[0m\u001b[0;34m)\u001b[0m \u001b[0;34m/\u001b[0m \u001b[0;36m2\u001b[0m\u001b[0;34m\u001b[0m\u001b[0;34m\u001b[0m\u001b[0m\n\u001b[1;32m      7\u001b[0m \u001b[0;34m\u001b[0m\u001b[0m\n\u001b[0;32m----> 8\u001b[0;31m   \u001b[0mficha\u001b[0m\u001b[0;34m.\u001b[0m\u001b[0mappend\u001b[0m\u001b[0;34m(\u001b[0m\u001b[0;34m[\u001b[0m\u001b[0mnome\u001b[0m\u001b[0;34m,\u001b[0m \u001b[0;34m[\u001b[0m\u001b[0mnota1\u001b[0m\u001b[0;34m,\u001b[0m \u001b[0mnota2\u001b[0m\u001b[0;34m]\u001b[0m\u001b[0;34m,\u001b[0m \u001b[0mmedia\u001b[0m\u001b[0;34m,\u001b[0m\u001b[0msituação\u001b[0m\u001b[0;34m]\u001b[0m\u001b[0;34m)\u001b[0m\u001b[0;34m\u001b[0m\u001b[0;34m\u001b[0m\u001b[0m\n\u001b[0m\u001b[1;32m      9\u001b[0m   \u001b[0mresp\u001b[0m \u001b[0;34m=\u001b[0m \u001b[0mstr\u001b[0m\u001b[0;34m(\u001b[0m\u001b[0minput\u001b[0m\u001b[0;34m(\u001b[0m\u001b[0;34m'Quer continuar? [S/N]'\u001b[0m\u001b[0;34m)\u001b[0m\u001b[0;34m)\u001b[0m \u001b[0;31m# Finaliza o loop\u001b[0m\u001b[0;34m\u001b[0m\u001b[0;34m\u001b[0m\u001b[0m\n\u001b[1;32m     10\u001b[0m   \u001b[0;32mif\u001b[0m \u001b[0mresp\u001b[0m \u001b[0;32min\u001b[0m \u001b[0;34m'Nn'\u001b[0m\u001b[0;34m:\u001b[0m\u001b[0;34m\u001b[0m\u001b[0;34m\u001b[0m\u001b[0m\n",
            "\u001b[0;31mNameError\u001b[0m: name 'situação' is not defined"
          ]
        }
      ]
    },
    {
      "cell_type": "markdown",
      "source": [],
      "metadata": {
        "id": "zDkf13Lzchzd"
      }
    }
  ]
}